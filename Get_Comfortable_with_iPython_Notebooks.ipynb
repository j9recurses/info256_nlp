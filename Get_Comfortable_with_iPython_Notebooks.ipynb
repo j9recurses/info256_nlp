{
 "metadata": {
  "name": "",
  "signature": "sha256:aef9508b3e29091f2bad01639af9aa3b1d6f6d9772b6a6c9c591f1cbf058ae21"
 },
 "nbformat": 3,
 "nbformat_minor": 0,
 "worksheets": [
  {
   "cells": [
    {
     "cell_type": "heading",
     "level": 1,
     "metadata": {},
     "source": [
      "Editing Markdown"
     ]
    },
    {
     "cell_type": "markdown",
     "metadata": {},
     "source": [
      "This is a line of \"markdown\" is which apparently is more humble than \"markup\".  It allows us to provide some text describing what we are doing with our code.  It doesn't look very nice when viewed using when you are in edit mode, but after you execute the cell containing the text it looks pretty.  To make all of the text on the page look nice, select the menu item Cell > Run All.\n",
      "  \n",
      "To edit this text, doubleclick into the box containing the text when viewing it in the notebook server.\n",
      "\n",
      "See https://help.github.com/articles/markdown-basics for details on the Markdown syntax."
     ]
    },
    {
     "cell_type": "markdown",
     "metadata": {},
     "source": [
      "### Adding a Second Subheading"
     ]
    },
    {
     "cell_type": "markdown",
     "metadata": {},
     "source": [
      "**Task 1.** Your first task is to add a subheading above this sentence and call it \"Adding a Subheading\".  Look at the toolbar with the icons to see how to add a row.  "
     ]
    },
    {
     "cell_type": "markdown",
     "metadata": {},
     "source": [
      "###Adding a Second Subheading"
     ]
    },
    {
     "cell_type": "markdown",
     "metadata": {},
     "source": [
      "**Task 2.** Your second task is to add another subheading above this called \"Adding a Second Subheading\" at the same level as the one above."
     ]
    },
    {
     "cell_type": "markdown",
     "metadata": {},
     "source": [
      "**Task 3** There are at least three things to love about python:\n",
      "\n",
      "* interpreted\n",
      "* great at processing strings\n",
      "* list comprehension!\n",
      "\n",
      "Do you like this example?  I'm showing you italics and bulleted lists in one fell swoop!"
     ]
    },
    {
     "cell_type": "heading",
     "level": 1,
     "metadata": {},
     "source": [
      "Let's Write Some Code"
     ]
    },
    {
     "cell_type": "markdown",
     "metadata": {},
     "source": [
      "Now we are going to write some code.  First move your mouse into the cell below and either hit Control-enter to execute it or click on the \"Go\" triangle in the control panel above to execute it.  "
     ]
    },
    {
     "cell_type": "code",
     "collapsed": false,
     "input": [
      "sentence = \"The School of Information is both UC Berkeley\u2019s newest and its smallest school.\"\n",
      "sentence"
     ],
     "language": "python",
     "metadata": {},
     "outputs": [
      {
       "metadata": {},
       "output_type": "pyout",
       "prompt_number": 1,
       "text": [
        "'The School of Information is both UC Berkeley\\xe2\\x80\\x99s newest and its smallest school.'"
       ]
      }
     ],
     "prompt_number": 1
    },
    {
     "cell_type": "markdown",
     "metadata": {},
     "source": [
      "**Task 4** Write a line of code below to convert this to a list of words by breaking on white space (spaces); call this list 'sent'."
     ]
    },
    {
     "cell_type": "code",
     "collapsed": false,
     "input": [
      "sent = sentence.split(\" \")\n",
      "sent"
     ],
     "language": "python",
     "metadata": {},
     "outputs": [
      {
       "metadata": {},
       "output_type": "pyout",
       "prompt_number": 8,
       "text": [
        "['The',\n",
        " 'School',\n",
        " 'of',\n",
        " 'Information',\n",
        " 'is',\n",
        " 'both',\n",
        " 'UC',\n",
        " 'Berkeley\\xe2\\x80\\x99s',\n",
        " 'newest',\n",
        " 'and',\n",
        " 'its',\n",
        " 'smallest',\n",
        " 'school.']"
       ]
      }
     ],
     "prompt_number": 8
    },
    {
     "cell_type": "markdown",
     "metadata": {},
     "source": [
      "**Task 5** Using python list splicing, create a new list called 'lasttwo' that contains just the last two items from this list and return the result."
     ]
    },
    {
     "cell_type": "code",
     "collapsed": false,
     "input": [
      "lasttwo = sent[-2:]\n",
      "lasttwo \n",
      "lastthree = sent[-3:]\n",
      "lastthree"
     ],
     "language": "python",
     "metadata": {},
     "outputs": [
      {
       "metadata": {},
       "output_type": "pyout",
       "prompt_number": 12,
       "text": [
        "['its', 'smallest', 'school.']"
       ]
      }
     ],
     "prompt_number": 12
    },
    {
     "cell_type": "markdown",
     "metadata": {},
     "source": [
      "**Task 6** Now edit the line of code above and change it to splice out the last three words and assign to a variable called lastthree.  Be sure to re-execute it and return the result.  Note that you will not be creating a new input line below."
     ]
    }
   ],
   "metadata": {}
  }
 ]
}